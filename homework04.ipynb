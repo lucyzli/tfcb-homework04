{
 "cells": [
  {
   "cell_type": "markdown",
   "metadata": {},
   "source": [
    "# Homework 4: Practical analysis with BioPython"
   ]
  },
  {
   "cell_type": "markdown",
   "metadata": {},
   "source": [
    "For the homework, you are going to extend the code from the analysis of our FASTQ file in lectures 8 and 9.\n",
    "Recall that the FASTQ file contains reads from a real sequencing run of influenza virus HA and NA genes.\n",
    "\n",
    "The _actual sequences_ are as follows:\n",
    "\n",
    "    5'-[end of HA]-AGGCGGCCGC-[16 X N barcode]-3'\n",
    "    \n",
    "or \n",
    "\n",
    "    5'-[end of NA]-AGGCGGCCGC-[16 X N barcode]-3'\n",
    "    \n",
    "The end of NA is:\n",
    "\n",
    "    ...CACGATAGATAAATAATAGTGCACCAT\n",
    "    \n",
    "The end of HA is:\n",
    "\n",
    "    ...CCGGATTTGCATATAATGATGCACCAT\n",
    "    \n",
    "The _sequencing reads_ (located in the FASTQ file) are from the reverse end of these actual sequences, so the first thing in the sequencing reads is the reverse complement of the barcode followed by the reverse complement of the constant sequence, etc.\n",
    "The reads can originate from **either** HA or NA, and that will be distinguished by the most 3' end of the read.\n",
    "But in our example exercise in class, we did not distinguish among reads matching to HA and NA, as we didn't even look far enough into the read to tell the identity.\n",
    "\n",
    "For the homework, your goal is to write code that extends the material from lectures 8 and 9 to also distinguish between HA and NA.\n",
    "This homework can be completed almost entirely by re-using code from lecture 9. You will need to set up your analysis to do the following:\n",
    " 1. Get the reverse complement of each read.\n",
    " 2. Determine if it matches the expected pattern for HA and NA, and if so which one.\n",
    " 3. If it matches, extract the barcode and add it to a dictionary to keep track of counts.\n",
    " 4. Determine the number and distribution of barcodes for HA and NA separately.\n",
    "\n",
    "Please include code to address each of the following questions. Please include code comments to explain what your code is attempting to accomplish. Don't forget to include references to the sources you used to obtain your answer, including your classmates (if you are working in groups).  "
   ]
  },
  {
   "cell_type": "markdown",
   "metadata": {},
   "source": [
    "1. How many reads map to HA, and how many reads map to NA?"
   ]
  },
  {
   "cell_type": "code",
   "execution_count": 6,
   "metadata": {},
   "outputs": [
    {
     "name": "stdout",
     "output_type": "stream",
     "text": [
      "The number of reads that mapped to HA were 5246.\n",
      "The number of reads that mapped to NA were 3910.\n"
     ]
    }
   ],
   "source": [
    "#import packages that are needed\n",
    "import re\n",
    "import Bio.SeqIO\n",
    "import os\n",
    "os.chdir('/workspaces/tfcb_2022/homeworks/homework04') #make sure in the correct working directory to parse the fastq file\n",
    "\n",
    "seqreads = list(Bio.SeqIO.parse('barcodes_R1.fastq', 'fastq')) #read in sequencing reads\n",
    "\n",
    "#convert seqreads which are SeqRecord objects into list of strings with just the sequences\n",
    "seqreads_str = [] #empty string\n",
    "for seqrecord in seqreads: #looping through entries in seqreads\n",
    "    seqreads_str.append(str(seqrecord.seq)) #take the sequence only of each seqread sequence and add to the list\n",
    "\n",
    "#function to find the reverse complement of a sequence\n",
    "def reverse_complement(seq, unk_partner = 'N'): #accounts for errors or unknown in sequence with N\n",
    "    base_partner = {'A':'T', 'T':'A', 'C':'G', 'G':'C'} #dictionary with normal base pair partners\n",
    "    rseq = '' #empty string\n",
    "    for base in seq: #loop through the sequence base by base\n",
    "        if base in base_partner: #if the base is in the base partner dictionary\n",
    "            rseq = base_partner[base] + rseq #look up the complementary base in the dictionary and add in reverse order\n",
    "        else: #if not ATCG\n",
    "            rseq = unk_partner + rseq #add N in its place\n",
    "    return rseq\n",
    "\n",
    "#function to read the barcodes while diffrentiating HA and NA\n",
    "def read_barcode(seqread, bclen, proteinseq, upstream='AGGCGGCCGC'): #similar to code we wrote in class but with extra protein argument\n",
    "    seqread = seqread.upper() #make sequence all uppercase\n",
    "    reverse = reverse_complement(seqread) # get the reverse complement of the read\n",
    "\n",
    "    #compile the barcode search pattern accounting for HA or NA difference with proteinseq while searching at the end of the sequence\n",
    "    barcode_pattern = re.compile(proteinseq + upstream + f'(?P<barcode>[ATCGN]{{{bclen}}})$') #barcode search pattern group that includes all bases and N with barcode length corresponding to bclen argument\n",
    "\n",
    "    #search reverse sequences for given barcode pattern\n",
    "    match = barcode_pattern.search(reverse)\n",
    "\n",
    "    if match: #if there is a barcode\n",
    "        barcode = match.group('barcode') #assign the barcode string to barcode\n",
    "        return barcode #function will return the barcode for the sequence\n",
    "    else: #if no match, nothing\n",
    "        return None\n",
    "\n",
    "barcode_counts_ha = {} #empty dictionary for HA barcode counts\n",
    "barcode_counts_na = {} #empty dictionary for NA barcode counts\n",
    "\n",
    "for seq in seqreads_str: # iterate through all sequence reads in the seqreads_str list\n",
    "    barcode_ha = read_barcode(seq, bclen = 16, proteinseq='CCGGATTTGCATATAATGATGCACCAT') #use the read_barcode function to find barcode for specifically HA using proteinseq as the HA sequence\n",
    "    barcode_na = read_barcode(seq, bclen = 16, proteinseq='CACGATAGATAAATAATAGTGCACCAT') #use the read_barcode function to find barcode for specifically NA using proteinseq as the NA sequence\n",
    "    if barcode_ha: # if there is a valid HA barcode\n",
    "        if barcode_ha in barcode_counts_ha: #if the HA barcode is in the HA barcode counts dictionary\n",
    "            barcode_counts_ha[barcode_ha] += 1 #add 1 to the value for that HA barcode key\n",
    "        else: #if HA barcode is not in the HA barcode counts dictionary\n",
    "            barcode_counts_ha[barcode_ha] = 1 #assign the value 1 for the HA barcode key and add to the dictionary\n",
    "    if barcode_na: #same thing as above but for the NA barcodes\n",
    "        if barcode_na in barcode_counts_na:\n",
    "            barcode_counts_na[barcode_na] += 1\n",
    "        else:\n",
    "            barcode_counts_na[barcode_na] = 1\n",
    "\n",
    "ha_counts = sum(barcode_counts_ha.values()) #add the values in the HA barcode counts dictionaries together to get number of reads that mapped to HA\n",
    "na_counts = sum(barcode_counts_na.values()) #add the values in the NA barcode counts dictionaries together to get number of reads that mapped to NA\n",
    "\n",
    "print(f'The number of reads that mapped to HA were {ha_counts}.')\n",
    "print(f'The number of reads that mapped to NA were {na_counts}.')"
   ]
  },
  {
   "cell_type": "markdown",
   "metadata": {},
   "source": [
    "2. What is the HA barcode with the most counts (and how many counts)? Also answer the same question for NA.\n",
    "\n",
    "    _Hint: you will need to find the key associated with the maximum value in your dictionary. There are many ways to do this._"
   ]
  },
  {
   "cell_type": "code",
   "execution_count": 8,
   "metadata": {},
   "outputs": [
    {
     "name": "stdout",
     "output_type": "stream",
     "text": [
      "The HA barcode with the most counts was CCCGACCCGACATTAA with the total counts for this barcode being 155.\n",
      "The HA barcode with the most counts was ACCAGTTCTCCCCGGG with the total counts for this barcode being 152.\n"
     ]
    }
   ],
   "source": [
    "#max function code adapted from https://pythonguides.com/python-find-max-value-in-a-dictionary/\n",
    "max_ha_barcode = max(barcode_counts_ha, key=barcode_counts_ha.get) #assigns the key(barcode) with the highest number of counts in HA barcode counts dictionary\n",
    "max_ha_count = max(barcode_counts_ha.values()) #assigns the highest count value in the HA barcode counts dictionary\n",
    "max_na_barcode = max(barcode_counts_na, key=barcode_counts_na.get) #assigns the key(barcode) with the highest number of counts in NA barcode counts dictionary\n",
    "max_na_count = max(barcode_counts_na.values()) #assigns the highest count value in the NA barcode counts dictionary\n",
    "print (f\"The HA barcode with the most counts was {max_ha_barcode} with the total counts for this barcode being {max_ha_count}.\")\n",
    "print (f\"The HA barcode with the most counts was {max_na_barcode} with the total counts for this barcode being {max_na_count}.\")"
   ]
  }
 ],
 "metadata": {
  "kernelspec": {
   "display_name": "Python 3.9.12 ('base')",
   "language": "python",
   "name": "python3"
  },
  "language_info": {
   "codemirror_mode": {
    "name": "ipython",
    "version": 3
   },
   "file_extension": ".py",
   "mimetype": "text/x-python",
   "name": "python",
   "nbconvert_exporter": "python",
   "pygments_lexer": "ipython3",
   "version": "3.9.12"
  },
  "toc": {
   "nav_menu": {},
   "number_sections": false,
   "sideBar": true,
   "skip_h1_title": false,
   "toc_cell": false,
   "toc_position": {
    "height": "623.8px",
    "left": "0px",
    "right": "829.6px",
    "top": "33.2px",
    "width": "322.4px"
   },
   "toc_section_display": "block",
   "toc_window_display": true
  },
  "vscode": {
   "interpreter": {
    "hash": "d4d1e4263499bec80672ea0156c357c1ee493ec2b1c70f0acce89fc37c4a6abe"
   }
  }
 },
 "nbformat": 4,
 "nbformat_minor": 2
}
