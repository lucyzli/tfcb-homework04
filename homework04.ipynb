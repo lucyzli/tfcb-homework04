{
 "cells": [
  {
   "cell_type": "markdown",
   "metadata": {},
   "source": [
    "# Homework 4: Practical analysis with BioPython"
   ]
  },
  {
   "cell_type": "markdown",
   "metadata": {},
   "source": [
    "For the homework, you are going to extend the code from the analysis of our FASTQ file in lectures 8 and 9.\n",
    "Recall that the FASTQ file contains reads from a real sequencing run of influenza virus HA and NA genes.\n",
    "\n",
    "The _actual sequences_ are as follows:\n",
    "\n",
    "    5'-[end of HA]-AGGCGGCCGC-[16 X N barcode]-3'\n",
    "    \n",
    "or \n",
    "\n",
    "    5'-[end of NA]-AGGCGGCCGC-[16 X N barcode]-3'\n",
    "    \n",
    "The end of NA is:\n",
    "\n",
    "    ...CACGATAGATAAATAATAGTGCACCAT\n",
    "    \n",
    "The end of HA is:\n",
    "\n",
    "    ...CCGGATTTGCATATAATGATGCACCAT\n",
    "    \n",
    "The _sequencing reads_ (located in the FASTQ file) are from the reverse end of these actual sequences, so the first thing in the sequencing reads is the reverse complement of the barcode followed by the reverse complement of the constant sequence, etc.\n",
    "The reads can originate from **either** HA or NA, and that will be distinguished by the most 3' end of the read.\n",
    "But in our example exercise in class, we did not distinguish among reads matching to HA and NA, as we didn't even look far enough into the read to tell the identity.\n",
    "\n",
    "For the homework, your goal is to write code that extends the material from lectures 8 and 9 to also distinguish between HA and NA.\n",
    "This homework can be completed almost entirely by re-using code from lecture 9. You will need to set up your analysis to do the following:\n",
    " 1. Get the reverse complement of each read.\n",
    " 2. Determine if it matches the expected pattern for HA and NA, and if so which one.\n",
    " 3. If it matches, extract the barcode and add it to a dictionary to keep track of counts.\n",
    " 4. Determine the number and distribution of barcodes for HA and NA separately.\n",
    "\n",
    "Please include code to address each of the following questions. Please include code comments to explain what your code is attempting to accomplish. Don't forget to include references to the sources you used to obtain your answer, including your classmates (if you are working in groups).  "
   ]
  },
  {
   "cell_type": "markdown",
   "metadata": {},
   "source": [
    "1. How many reads map to HA, and how many reads map to NA?"
   ]
  },
  {
   "cell_type": "code",
   "execution_count": 33,
   "metadata": {},
   "outputs": [
    {
     "name": "stdout",
     "output_type": "stream",
     "text": [
      "The number of reads that mapped to HA were 5246.\n",
      "The number of reads that mapped to NA were 3910.\n"
     ]
    }
   ],
   "source": [
    "import re\n",
    "import Bio.SeqIO\n",
    "\n",
    "seqreads = list(Bio.SeqIO.parse('barcodes_R1.fastq', 'fastq'))\n",
    "\n",
    "seqreads_str = []\n",
    "for seqrecord in seqreads:\n",
    "    seqreads_str.append(str(seqrecord.seq))\n",
    "\n",
    "def reverse_complement(seq, unk_partner = 'N'):\n",
    "    base_partner = {'A':'T', 'T':'A', 'C':'G', 'G':'C'}\n",
    "    rseq = ''\n",
    "    for base in seq:\n",
    "        if base in base_partner:\n",
    "            # look up the complementary base in the dictionary and add in reverse order\n",
    "            rseq = base_partner[base] + rseq\n",
    "        else:\n",
    "            rseq = unk_partner + rseq\n",
    "    return rseq\n",
    "\n",
    "def read_barcode(seqread, bclen, proteinseq, upstream='AGGCGGCCGC'):\n",
    "    seqread = seqread.upper() #make each seq all uppercase\n",
    "    reverse = reverse_complement(seqread) # get the reverse complement of the read\n",
    "\n",
    "    # compile the barcode search pattern\n",
    "    barcode_pattern = re.compile(proteinseq + upstream + f\"(?P<barcode>[ATCGN]{{{bclen}}})$\")\n",
    "\n",
    "    # search for the barcode pattern\n",
    "    match = barcode_pattern.search(reverse)\n",
    "\n",
    "    if match:\n",
    "        barcode = match.group('barcode')\n",
    "        return barcode\n",
    "    else:\n",
    "        return None\n",
    "\n",
    "barcode_counts_ha = {}\n",
    "barcode_counts_na = {}\n",
    "barcodeha=0\n",
    "barcodena=0\n",
    "\n",
    "for seq in seqreads_str: # iterate through all reads\n",
    "    barcode_ha = read_barcode(seq, bclen = 16, proteinseq='CCGGATTTGCATATAATGATGCACCAT')\n",
    "    barcode_na = read_barcode(seq, bclen = 16, proteinseq='CACGATAGATAAATAATAGTGCACCAT')\n",
    "    if barcode_ha: # if there is a valid barcode, add it to the dictionary\n",
    "        if barcode_ha in barcode_counts_ha:\n",
    "            barcode_counts_ha[barcode_ha] += 1\n",
    "        else:\n",
    "            barcode_counts_ha[barcode_ha] = 1\n",
    "    if barcode_na:\n",
    "        if barcode_na in barcode_counts_na:\n",
    "            barcode_counts_na[barcode_na] += 1\n",
    "        else:\n",
    "            barcode_counts_na[barcode_na] = 1\n",
    "\n",
    "ha_counts = sum(barcode_counts_ha.values())\n",
    "na_counts = sum(barcode_counts_na.values())\n",
    "\n",
    "print(f\"The number of reads that mapped to HA were {ha_counts}.\")\n",
    "print(f\"The number of reads that mapped to NA were {na_counts}.\")"
   ]
  },
  {
   "cell_type": "markdown",
   "metadata": {},
   "source": [
    "2. What is the HA barcode with the most counts (and how many counts)? Also answer the same question for NA.\n",
    "\n",
    "    _Hint: you will need to find the key associated with the maximum value in your dictionary. There are many ways to do this._"
   ]
  },
  {
   "cell_type": "code",
   "execution_count": 40,
   "metadata": {},
   "outputs": [
    {
     "name": "stdout",
     "output_type": "stream",
     "text": [
      "The HA barcode with the most counts was CCCGACCCGACATTAA with the total counts for this barcode being 155.\n",
      "The HA barcode with the most counts was ACCAGTTCTCCCCGGG with the total counts for this barcode being 152.\n"
     ]
    }
   ],
   "source": [
    "max_ha_barcode = max(barcode_counts_ha, key=barcode_counts_ha.get)\n",
    "max_ha_count = max(barcode_counts_ha.values())\n",
    "max_na_barcode = max(barcode_counts_na, key=barcode_counts_na.get)\n",
    "max_na_count = max(barcode_counts_na.values())\n",
    "print (f\"The HA barcode with the most counts was {max_ha_barcode} with the total counts for this barcode being {max_ha_count}.\")\n",
    "print (f\"The HA barcode with the most counts was {max_na_barcode} with the total counts for this barcode being {max_na_count}.\")"
   ]
  }
 ],
 "metadata": {
  "kernelspec": {
   "display_name": "Python 3.9.12 ('base')",
   "language": "python",
   "name": "python3"
  },
  "language_info": {
   "codemirror_mode": {
    "name": "ipython",
    "version": 3
   },
   "file_extension": ".py",
   "mimetype": "text/x-python",
   "name": "python",
   "nbconvert_exporter": "python",
   "pygments_lexer": "ipython3",
   "version": "3.9.12"
  },
  "toc": {
   "nav_menu": {},
   "number_sections": false,
   "sideBar": true,
   "skip_h1_title": false,
   "toc_cell": false,
   "toc_position": {
    "height": "623.8px",
    "left": "0px",
    "right": "829.6px",
    "top": "33.2px",
    "width": "322.4px"
   },
   "toc_section_display": "block",
   "toc_window_display": true
  },
  "vscode": {
   "interpreter": {
    "hash": "d4d1e4263499bec80672ea0156c357c1ee493ec2b1c70f0acce89fc37c4a6abe"
   }
  }
 },
 "nbformat": 4,
 "nbformat_minor": 2
}
